{
 "cells": [
  {
   "cell_type": "markdown",
   "source": [
    "# Fish mercury data analysis\n",
    "\n",
    "Author of this notebook: Izael Manuel Rascón Durán A01562240\n",
    "Módulo 1: Estadística para ciencia de datos e Inteligencia Artificial avanzada y ciencia de datos.\n",
    "Grupo: 102\n",
    "\n",
    "Mercury contamination of fish in edible freshwater is a direct threat to our health. A recent study was conducted in 53 Florida lakes to examine factors influencing the level of mercury contamination. The variables that were measured can be found in mercury.csv and are described as follows:\n",
    "\n",
    "X1 = identification number\n",
    "X2 = lake name\n",
    "X3 = alkalinity (mg/l calcium carbonate)\n",
    "X4 = PH\n",
    "X5 = calcium (mg/l)\n",
    "X6 = chlorophyll (mg/l)\n",
    "X7 = average mercury concentration (part per million) in the muscle tissue of the group of fish studied in each lake X8 = number of fish studied in each lake\n",
    "X8 = number of fish studied in the lake\n",
    "X9 = minimum mercury concentration in each group of fish X10 = maximum mercury concentration in each group of fish\n",
    "X10 = maximum mercury concentration in each group of fish X11 = estimate (by regression) of mercury concentration in each group of fish\n",
    "X11 = estimate (by regression) of the mercury concentration in the 3-year-old fish (or average mercury when age is not available)\n",
    "X12 = indicator of the age of the fish (0: young; 1: mature).\n",
    "\n",
    "Around the main research question that arises in this study: what are the main factors influencing the level of mercury contamination in fish in Florida lakes? Parallel questions may arise that break down this general question:\n",
    "\n",
    "- Is there evidence to assume that the average concentration of mercury in the lakes is harmful to human health? Consider that the reference regulations for assessing maximum Hg levels (Regulation 34687-MAG and international regulations EC 1881/2006 and Codex Standard 193-1995) state that the average mercury concentration in fishery products should not exceed 0.5 mg Hg/kg.\n",
    "- Will there be significant difference between mercury concentration by age of fish?\n",
    "- If the sampling was done by casting a net and analyzing the fish that the net encountered, will the number of fish encountered influence the mercury concentration in the fish?\n",
    "- Do the concentrations of alkalinity, chlorophyll, calcium in the lake water influence the mercury concentration of the fish?"
   ],
   "metadata": {
    "collapsed": false,
    "pycharm": {
     "name": "#%% md\n"
    }
   }
  },
  {
   "cell_type": "markdown",
   "source": [
    "## Database exploration\n",
    "### Accessing the database and setting up the required libraries"
   ],
   "metadata": {
    "collapsed": false,
    "pycharm": {
     "name": "#%% md\n"
    }
   }
  },
  {
   "cell_type": "code",
   "execution_count": 8,
   "metadata": {
    "collapsed": true,
    "pycharm": {
     "name": "#%%\n"
    }
   },
   "outputs": [],
   "source": [
    "import pandas as pd\n",
    "\n",
    "columns = [\"name\", \"alkalinity\", \"ph\", \"calcium\", \"chlorophyll\", \"mean_merc_porc\", \"num_fish\", \"min_merc_porc\", \"max_merc_porc\", \"merc_estimate_porc\", \"age_fishes\"]\n",
    "df_fishes = pd.read_csv('mercurio.csv', index_col='X1')\n",
    "df_fishes.columns = columns"
   ]
  },
  {
   "cell_type": "markdown",
   "source": [
    "### Analyze dataset features\n",
    "In the next codeblock we can see all the available features of the dataset already described"
   ],
   "metadata": {
    "collapsed": false,
    "pycharm": {
     "name": "#%% md\n"
    }
   }
  },
  {
   "cell_type": "code",
   "execution_count": 9,
   "outputs": [
    {
     "name": "stdout",
     "output_type": "stream",
     "text": [
      "['name' 'alkalinity' 'ph' 'calcium' 'chlorophyll' 'mean_merc_porc'\n",
      " 'num_fish' 'min_merc_porc' 'max_merc_porc' 'merc_estimate_porc'\n",
      " 'age_fishes']\n"
     ]
    }
   ],
   "source": [
    "print(df_fishes.columns.values)"
   ],
   "metadata": {
    "collapsed": false,
    "pycharm": {
     "name": "#%%\n"
    }
   }
  },
  {
   "cell_type": "markdown",
   "source": [
    "#### Which features are categorical?\n",
    "\n",
    "These values classify the samples into sets of similar samples. Within categorical features are the values nominal, ordinal, ratio, or interval based? Among other things this helps us select the appropriate plots for visualization.\n",
    "\n",
    "- Nominal: name.\n",
    "\n",
    "#### Which features are numerical?\n",
    "\n",
    "Which features are numerical? These values change from sample to sample. Within numerical features are the values discrete, continuous, or timeseries based? Among other things this helps us select the appropriate plots for visualization.\n",
    "\n",
    "- Continuous: alkalinity, ph, calcium, chlorophyll, mean_merc_porc, min_merc_porc, max_merc_porc and merc_estimate_porc.\n",
    "- Discrete: age_fishes and  num_fish."
   ],
   "metadata": {
    "collapsed": false,
    "pycharm": {
     "name": "#%% md\n"
    }
   }
  },
  {
   "cell_type": "code",
   "execution_count": 13,
   "outputs": [
    {
     "data": {
      "text/plain": "            name  alkalinity   ph  calcium  chlorophyll  mean_merc_porc  \\\nX1                                                                        \n1      Alligator         5.9  6.1      3.0          0.7            1.23   \n2          Annie         3.5  5.1      1.9          3.2            1.33   \n3         Apopka       116.0  9.1     44.1        128.3            0.04   \n4   Blue Cypress        39.4  6.9     16.4          3.5            0.44   \n5          Brick         2.5  4.6      2.9          1.8            1.20   \n\n    num_fish  min_merc_porc  max_merc_porc  merc_estimate_porc  age_fishes  \nX1                                                                          \n1          5           0.85           1.43                1.53           1  \n2          7           0.92           1.90                1.33           0  \n3          6           0.04           0.06                0.04           0  \n4         12           0.13           0.84                0.44           0  \n5         12           0.69           1.50                1.33           1  ",
      "text/html": "<div>\n<style scoped>\n    .dataframe tbody tr th:only-of-type {\n        vertical-align: middle;\n    }\n\n    .dataframe tbody tr th {\n        vertical-align: top;\n    }\n\n    .dataframe thead th {\n        text-align: right;\n    }\n</style>\n<table border=\"1\" class=\"dataframe\">\n  <thead>\n    <tr style=\"text-align: right;\">\n      <th></th>\n      <th>name</th>\n      <th>alkalinity</th>\n      <th>ph</th>\n      <th>calcium</th>\n      <th>chlorophyll</th>\n      <th>mean_merc_porc</th>\n      <th>num_fish</th>\n      <th>min_merc_porc</th>\n      <th>max_merc_porc</th>\n      <th>merc_estimate_porc</th>\n      <th>age_fishes</th>\n    </tr>\n    <tr>\n      <th>X1</th>\n      <th></th>\n      <th></th>\n      <th></th>\n      <th></th>\n      <th></th>\n      <th></th>\n      <th></th>\n      <th></th>\n      <th></th>\n      <th></th>\n      <th></th>\n    </tr>\n  </thead>\n  <tbody>\n    <tr>\n      <th>1</th>\n      <td>Alligator</td>\n      <td>5.9</td>\n      <td>6.1</td>\n      <td>3.0</td>\n      <td>0.7</td>\n      <td>1.23</td>\n      <td>5</td>\n      <td>0.85</td>\n      <td>1.43</td>\n      <td>1.53</td>\n      <td>1</td>\n    </tr>\n    <tr>\n      <th>2</th>\n      <td>Annie</td>\n      <td>3.5</td>\n      <td>5.1</td>\n      <td>1.9</td>\n      <td>3.2</td>\n      <td>1.33</td>\n      <td>7</td>\n      <td>0.92</td>\n      <td>1.90</td>\n      <td>1.33</td>\n      <td>0</td>\n    </tr>\n    <tr>\n      <th>3</th>\n      <td>Apopka</td>\n      <td>116.0</td>\n      <td>9.1</td>\n      <td>44.1</td>\n      <td>128.3</td>\n      <td>0.04</td>\n      <td>6</td>\n      <td>0.04</td>\n      <td>0.06</td>\n      <td>0.04</td>\n      <td>0</td>\n    </tr>\n    <tr>\n      <th>4</th>\n      <td>Blue Cypress</td>\n      <td>39.4</td>\n      <td>6.9</td>\n      <td>16.4</td>\n      <td>3.5</td>\n      <td>0.44</td>\n      <td>12</td>\n      <td>0.13</td>\n      <td>0.84</td>\n      <td>0.44</td>\n      <td>0</td>\n    </tr>\n    <tr>\n      <th>5</th>\n      <td>Brick</td>\n      <td>2.5</td>\n      <td>4.6</td>\n      <td>2.9</td>\n      <td>1.8</td>\n      <td>1.20</td>\n      <td>12</td>\n      <td>0.69</td>\n      <td>1.50</td>\n      <td>1.33</td>\n      <td>1</td>\n    </tr>\n  </tbody>\n</table>\n</div>"
     },
     "execution_count": 13,
     "metadata": {},
     "output_type": "execute_result"
    }
   ],
   "source": [
    "# preview of the data\n",
    "\n",
    "df_fishes.head()"
   ],
   "metadata": {
    "collapsed": false,
    "pycharm": {
     "name": "#%%\n"
    }
   }
  },
  {
   "cell_type": "markdown",
   "source": [
    "#### Extra observations\n",
    "The dataset have no missing values in any feature, which means we don't have to worry about fill empty values. We can observe that there it is 11 features that are numerical data type and 1 that are string data type.\n",
    "\n",
    "We might need to convert in future the string features (categorical data) to numerical data types (numerical data)."
   ],
   "metadata": {
    "collapsed": false,
    "pycharm": {
     "name": "#%% md\n"
    }
   }
  },
  {
   "cell_type": "code",
   "execution_count": 15,
   "outputs": [
    {
     "name": "stdout",
     "output_type": "stream",
     "text": [
      "<class 'pandas.core.frame.DataFrame'>\n",
      "Int64Index: 53 entries, 1 to 53\n",
      "Data columns (total 11 columns):\n",
      " #   Column              Non-Null Count  Dtype  \n",
      "---  ------              --------------  -----  \n",
      " 0   name                53 non-null     object \n",
      " 1   alkalinity          53 non-null     float64\n",
      " 2   ph                  53 non-null     float64\n",
      " 3   calcium             53 non-null     float64\n",
      " 4   chlorophyll         53 non-null     float64\n",
      " 5   mean_merc_porc      53 non-null     float64\n",
      " 6   num_fish            53 non-null     int64  \n",
      " 7   min_merc_porc       53 non-null     float64\n",
      " 8   max_merc_porc       53 non-null     float64\n",
      " 9   merc_estimate_porc  53 non-null     float64\n",
      " 10  age_fishes          53 non-null     int64  \n",
      "dtypes: float64(8), int64(2), object(1)\n",
      "memory usage: 5.0+ KB\n"
     ]
    }
   ],
   "source": [
    "df_fishes.info()"
   ],
   "metadata": {
    "collapsed": false,
    "pycharm": {
     "name": "#%%\n"
    }
   }
  },
  {
   "cell_type": "markdown",
   "source": [
    "### Database exploration\n",
    "#### Describe the numerical features"
   ],
   "metadata": {
    "collapsed": false,
    "pycharm": {
     "name": "#%% md\n"
    }
   }
  },
  {
   "cell_type": "code",
   "execution_count": 17,
   "outputs": [
    {
     "data": {
      "text/plain": "       alkalinity         ph    calcium  chlorophyll  mean_merc_porc  \\\ncount   53.000000  53.000000  53.000000    53.000000       53.000000   \nmean    37.530189   6.590566  22.201887    23.116981        0.527170   \nstd     38.203527   1.288449  24.932574    30.816321        0.341036   \nmin      1.200000   3.600000   1.100000     0.700000        0.040000   \n25%      6.600000   5.800000   3.300000     4.600000        0.270000   \n50%     19.600000   6.800000  12.600000    12.800000        0.480000   \n75%     66.500000   7.400000  35.600000    24.700000        0.770000   \nmax    128.000000   9.100000  90.700000   152.400000        1.330000   \n\n        num_fish  min_merc_porc  max_merc_porc  merc_estimate_porc  age_fishes  \ncount  53.000000      53.000000      53.000000           53.000000   53.000000  \nmean   13.056604       0.279811       0.874528            0.513208    0.811321  \nstd     8.560677       0.226406       0.522047            0.338729    0.394998  \nmin     4.000000       0.040000       0.060000            0.040000    0.000000  \n25%    10.000000       0.090000       0.480000            0.250000    1.000000  \n50%    12.000000       0.250000       0.840000            0.450000    1.000000  \n75%    12.000000       0.330000       1.330000            0.700000    1.000000  \nmax    44.000000       0.920000       2.040000            1.530000    1.000000  ",
      "text/html": "<div>\n<style scoped>\n    .dataframe tbody tr th:only-of-type {\n        vertical-align: middle;\n    }\n\n    .dataframe tbody tr th {\n        vertical-align: top;\n    }\n\n    .dataframe thead th {\n        text-align: right;\n    }\n</style>\n<table border=\"1\" class=\"dataframe\">\n  <thead>\n    <tr style=\"text-align: right;\">\n      <th></th>\n      <th>alkalinity</th>\n      <th>ph</th>\n      <th>calcium</th>\n      <th>chlorophyll</th>\n      <th>mean_merc_porc</th>\n      <th>num_fish</th>\n      <th>min_merc_porc</th>\n      <th>max_merc_porc</th>\n      <th>merc_estimate_porc</th>\n      <th>age_fishes</th>\n    </tr>\n  </thead>\n  <tbody>\n    <tr>\n      <th>count</th>\n      <td>53.000000</td>\n      <td>53.000000</td>\n      <td>53.000000</td>\n      <td>53.000000</td>\n      <td>53.000000</td>\n      <td>53.000000</td>\n      <td>53.000000</td>\n      <td>53.000000</td>\n      <td>53.000000</td>\n      <td>53.000000</td>\n    </tr>\n    <tr>\n      <th>mean</th>\n      <td>37.530189</td>\n      <td>6.590566</td>\n      <td>22.201887</td>\n      <td>23.116981</td>\n      <td>0.527170</td>\n      <td>13.056604</td>\n      <td>0.279811</td>\n      <td>0.874528</td>\n      <td>0.513208</td>\n      <td>0.811321</td>\n    </tr>\n    <tr>\n      <th>std</th>\n      <td>38.203527</td>\n      <td>1.288449</td>\n      <td>24.932574</td>\n      <td>30.816321</td>\n      <td>0.341036</td>\n      <td>8.560677</td>\n      <td>0.226406</td>\n      <td>0.522047</td>\n      <td>0.338729</td>\n      <td>0.394998</td>\n    </tr>\n    <tr>\n      <th>min</th>\n      <td>1.200000</td>\n      <td>3.600000</td>\n      <td>1.100000</td>\n      <td>0.700000</td>\n      <td>0.040000</td>\n      <td>4.000000</td>\n      <td>0.040000</td>\n      <td>0.060000</td>\n      <td>0.040000</td>\n      <td>0.000000</td>\n    </tr>\n    <tr>\n      <th>25%</th>\n      <td>6.600000</td>\n      <td>5.800000</td>\n      <td>3.300000</td>\n      <td>4.600000</td>\n      <td>0.270000</td>\n      <td>10.000000</td>\n      <td>0.090000</td>\n      <td>0.480000</td>\n      <td>0.250000</td>\n      <td>1.000000</td>\n    </tr>\n    <tr>\n      <th>50%</th>\n      <td>19.600000</td>\n      <td>6.800000</td>\n      <td>12.600000</td>\n      <td>12.800000</td>\n      <td>0.480000</td>\n      <td>12.000000</td>\n      <td>0.250000</td>\n      <td>0.840000</td>\n      <td>0.450000</td>\n      <td>1.000000</td>\n    </tr>\n    <tr>\n      <th>75%</th>\n      <td>66.500000</td>\n      <td>7.400000</td>\n      <td>35.600000</td>\n      <td>24.700000</td>\n      <td>0.770000</td>\n      <td>12.000000</td>\n      <td>0.330000</td>\n      <td>1.330000</td>\n      <td>0.700000</td>\n      <td>1.000000</td>\n    </tr>\n    <tr>\n      <th>max</th>\n      <td>128.000000</td>\n      <td>9.100000</td>\n      <td>90.700000</td>\n      <td>152.400000</td>\n      <td>1.330000</td>\n      <td>44.000000</td>\n      <td>0.920000</td>\n      <td>2.040000</td>\n      <td>1.530000</td>\n      <td>1.000000</td>\n    </tr>\n  </tbody>\n</table>\n</div>"
     },
     "execution_count": 17,
     "metadata": {},
     "output_type": "execute_result"
    }
   ],
   "source": [
    "df_fishes.describe()"
   ],
   "metadata": {
    "collapsed": false,
    "pycharm": {
     "name": "#%%\n"
    }
   }
  },
  {
   "cell_type": "markdown",
   "source": [
    "#### Describe the categorical features"
   ],
   "metadata": {
    "collapsed": false,
    "pycharm": {
     "name": "#%% md\n"
    }
   }
  },
  {
   "cell_type": "code",
   "execution_count": 19,
   "outputs": [
    {
     "data": {
      "text/plain": "             name\ncount          53\nunique         53\ntop     Alligator\nfreq            1",
      "text/html": "<div>\n<style scoped>\n    .dataframe tbody tr th:only-of-type {\n        vertical-align: middle;\n    }\n\n    .dataframe tbody tr th {\n        vertical-align: top;\n    }\n\n    .dataframe thead th {\n        text-align: right;\n    }\n</style>\n<table border=\"1\" class=\"dataframe\">\n  <thead>\n    <tr style=\"text-align: right;\">\n      <th></th>\n      <th>name</th>\n    </tr>\n  </thead>\n  <tbody>\n    <tr>\n      <th>count</th>\n      <td>53</td>\n    </tr>\n    <tr>\n      <th>unique</th>\n      <td>53</td>\n    </tr>\n    <tr>\n      <th>top</th>\n      <td>Alligator</td>\n    </tr>\n    <tr>\n      <th>freq</th>\n      <td>1</td>\n    </tr>\n  </tbody>\n</table>\n</div>"
     },
     "execution_count": 19,
     "metadata": {},
     "output_type": "execute_result"
    }
   ],
   "source": [
    "df_fishes.describe(include=['O'])"
   ],
   "metadata": {
    "collapsed": false,
    "pycharm": {
     "name": "#%%\n"
    }
   }
  },
  {
   "cell_type": "code",
   "execution_count": 20,
   "outputs": [
    {
     "data": {
      "text/plain": "name                  Alligator\nalkalinity                 17.3\nph                          5.8\ncalcium                     3.0\nchlorophyll                 1.6\nmean_merc_porc             0.34\nnum_fish                   12.0\nmin_merc_porc              0.04\nmax_merc_porc              0.06\nmerc_estimate_porc         0.16\nage_fishes                  1.0\nName: 0, dtype: object"
     },
     "execution_count": 20,
     "metadata": {},
     "output_type": "execute_result"
    }
   ],
   "source": [
    "df_fishes.mode().iloc[0]"
   ],
   "metadata": {
    "collapsed": false,
    "pycharm": {
     "name": "#%%\n"
    }
   }
  },
  {
   "cell_type": "markdown",
   "source": [
    "#### Describe the variables with using visualization tools\n",
    "##### Cuantitative variables positional measures and outliers detection"
   ],
   "metadata": {
    "collapsed": false,
    "pycharm": {
     "name": "#%% md\n"
    }
   }
  },
  {
   "cell_type": "code",
   "execution_count": 21,
   "outputs": [
    {
     "data": {
      "text/plain": "<AxesSubplot:>"
     },
     "execution_count": 21,
     "metadata": {},
     "output_type": "execute_result"
    },
    {
     "data": {
      "text/plain": "<Figure size 432x288 with 1 Axes>",
      "image/png": "[encoded data removed]"
     },
     "metadata": {},
     "output_type": "display_data"
    }
   ],
   "source": [
    "df_fishes.boxplot(column='alkalinity')"
   ],
   "metadata": {
    "collapsed": false,
    "pycharm": {
     "name": "#%%\n"
    }
   }
  },
  {
   "cell_type": "code",
   "execution_count": 23,
   "outputs": [
    {
     "data": {
      "text/plain": "<AxesSubplot:>"
     },
     "execution_count": 23,
     "metadata": {},
     "output_type": "execute_result"
    },
    {
     "data": {
      "text/plain": "<Figure size 432x288 with 1 Axes>",
      "image/png": "[encoded data removed]"
     },
     "metadata": {},
     "output_type": "display_data"
    }
   ],
   "source": [
    "df_fishes.boxplot(column='ph')"
   ],
   "metadata": {
    "collapsed": false,
    "pycharm": {
     "name": "#%%\n"
    }
   }
  },
  {
   "cell_type": "code",
   "execution_count": 24,
   "outputs": [
    {
     "data": {
      "text/plain": "<AxesSubplot:>"
     },
     "execution_count": 24,
     "metadata": {},
     "output_type": "execute_result"
    },
    {
     "data": {
      "text/plain": "<Figure size 432x288 with 1 Axes>",
      "image/png": "[encoded data removed]"
     },
     "metadata": {},
     "output_type": "display_data"
    }
   ],
   "source": [
    "df_fishes.boxplot(column='calcium')"
   ],
   "metadata": {
    "collapsed": false,
    "pycharm": {
     "name": "#%%\n"
    }
   }
  },
  {
   "cell_type": "code",
   "execution_count": 25,
   "outputs": [
    {
     "data": {
      "text/plain": "<AxesSubplot:>"
     },
     "execution_count": 25,
     "metadata": {},
     "output_type": "execute_result"
    },
    {
     "data": {
      "text/plain": "<Figure size 432x288 with 1 Axes>",
      "image/png": "[encoded data removed]"
     },
     "metadata": {},
     "output_type": "display_data"
    }
   ],
   "source": [
    "df_fishes.boxplot(column='chlorophyll')"
   ],
   "metadata": {
    "collapsed": false,
    "pycharm": {
     "name": "#%%\n"
    }
   }
  },
  {
   "cell_type": "code",
   "execution_count": 26,
   "outputs": [
    {
     "data": {
      "text/plain": "<AxesSubplot:>"
     },
     "execution_count": 26,
     "metadata": {},
     "output_type": "execute_result"
    },
    {
     "data": {
      "text/plain": "<Figure size 432x288 with 1 Axes>",
      "image/png": "[encoded data removed]"
     },
     "metadata": {},
     "output_type": "display_data"
    }
   ],
   "source": [
    "df_fishes.boxplot(column='mean_merc_porc')"
   ],
   "metadata": {
    "collapsed": false,
    "pycharm": {
     "name": "#%%\n"
    }
   }
  },
  {
   "cell_type": "code",
   "execution_count": 28,
   "outputs": [
    {
     "data": {
      "text/plain": "<AxesSubplot:>"
     },
     "execution_count": 28,
     "metadata": {},
     "output_type": "execute_result"
    },
    {
     "data": {
      "text/plain": "<Figure size 432x288 with 1 Axes>",
      "image/png": "[encoded data removed]"
     },
     "metadata": {},
     "output_type": "display_data"
    }
   ],
   "source": [
    "df_fishes.boxplot(column='min_merc_porc')"
   ],
   "metadata": {
    "collapsed": false,
    "pycharm": {
     "name": "#%%\n"
    }
   }
  },
  {
   "cell_type": "code",
   "execution_count": 29,
   "outputs": [
    {
     "data": {
      "text/plain": "<AxesSubplot:>"
     },
     "execution_count": 29,
     "metadata": {},
     "output_type": "execute_result"
    },
    {
     "data": {
      "text/plain": "<Figure size 432x288 with 1 Axes>",
      "image/png": "[encoded data removed]"
     },
     "metadata": {},
     "output_type": "display_data"
    }
   ],
   "source": [
    "df_fishes.boxplot(column='max_merc_porc')"
   ],
   "metadata": {
    "collapsed": false,
    "pycharm": {
     "name": "#%%\n"
    }
   }
  },
  {
   "cell_type": "code",
   "execution_count": 30,
   "outputs": [
    {
     "data": {
      "text/plain": "<AxesSubplot:>"
     },
     "execution_count": 30,
     "metadata": {},
     "output_type": "execute_result"
    },
    {
     "data": {
      "text/plain": "<Figure size 432x288 with 1 Axes>",
      "image/png": "[encoded data removed]"
     },
     "metadata": {},
     "output_type": "display_data"
    }
   ],
   "source": [
    "df_fishes.boxplot(column='merc_estimate_porc')"
   ],
   "metadata": {
    "collapsed": false,
    "pycharm": {
     "name": "#%%\n"
    }
   }
  },
  {
   "cell_type": "code",
   "execution_count": 31,
   "outputs": [
    {
     "data": {
      "text/plain": "<AxesSubplot:>"
     },
     "execution_count": 31,
     "metadata": {},
     "output_type": "execute_result"
    },
    {
     "data": {
      "text/plain": "<Figure size 432x288 with 1 Axes>",
      "image/png": "[encoded data removed]"
     },
     "metadata": {},
     "output_type": "display_data"
    }
   ],
   "source": [
    "df_fishes.boxplot(column='age_fishes')"
   ],
   "metadata": {
    "collapsed": false,
    "pycharm": {
     "name": "#%%\n"
    }
   }
  },
  {
   "cell_type": "code",
   "execution_count": 32,
   "outputs": [
    {
     "data": {
      "text/plain": "<AxesSubplot:>"
     },
     "execution_count": 32,
     "metadata": {},
     "output_type": "execute_result"
    },
    {
     "data": {
      "text/plain": "<Figure size 432x288 with 1 Axes>",
      "image/png": "[encoded data removed]"
     },
     "metadata": {},
     "output_type": "display_data"
    }
   ],
   "source": [
    "df_fishes.boxplot(column='num_fish')"
   ],
   "metadata": {
    "collapsed": false,
    "pycharm": {
     "name": "#%%\n"
    }
   }
  },
  {
   "cell_type": "markdown",
   "source": [
    "We get the salaries outliers:"
   ],
   "metadata": {
    "collapsed": false,
    "pycharm": {
     "name": "#%% md\n"
    }
   }
  },
  {
   "cell_type": "code",
   "execution_count": 35,
   "outputs": [
    {
     "data": {
      "text/plain": "X1\n3                Apopka\n9            Deer Point\n14    East Tohopekaliga\n17              Griffin\n26            Kissimmee\nName: name, dtype: object"
     },
     "execution_count": 35,
     "metadata": {},
     "output_type": "execute_result"
    }
   ],
   "source": [
    "def get_outliers(df, cols, quantil_size):\n",
    "    Q1 = df[cols].quantile(0.25)\n",
    "    Q3 = df[cols].quantile(0.75)\n",
    "    IQR = Q3 - Q1\n",
    "    df = df[((df[cols] < (Q1 - quantil_size * IQR)) | (df[cols] > (Q3 + quantil_size * IQR))).any(axis=1)]\n",
    "    return df\n",
    "\n",
    "\n",
    "\n",
    "outliers_fishes = get_outliers(df_fishes, ['alkalinity', 'ph', 'calcium', 'chlorophyll', 'mean_merc_porc', 'num_fish', 'min_merc_porc', 'max_merc_porc', 'merc_estimate_porc'], 3)['name']\n",
    "\n",
    "outliers_fishes.head()"
   ],
   "metadata": {
    "collapsed": false,
    "pycharm": {
     "name": "#%%\n"
    }
   }
  },
  {
   "cell_type": "code",
   "execution_count": 36,
   "outputs": [
    {
     "data": {
      "text/plain": "7"
     },
     "execution_count": 36,
     "metadata": {},
     "output_type": "execute_result"
    }
   ],
   "source": [
    "outliers_fishes.count()"
   ],
   "metadata": {
    "collapsed": false,
    "pycharm": {
     "name": "#%%\n"
    }
   }
  },
  {
   "cell_type": "markdown",
   "source": [
    "#### Identify the data quality\n",
    "Here we are looking for duplicated data, missing data and validating the relevance of each variable.\n",
    "There is no duplicated regiestries"
   ],
   "metadata": {
    "collapsed": false,
    "pycharm": {
     "name": "#%% md\n"
    }
   }
  },
  {
   "cell_type": "code",
   "execution_count": 37,
   "outputs": [
    {
     "data": {
      "text/plain": "0"
     },
     "execution_count": 37,
     "metadata": {},
     "output_type": "execute_result"
    }
   ],
   "source": [
    "df_fishes.duplicated().sum()  # Duplicated registries"
   ],
   "metadata": {
    "collapsed": false,
    "pycharm": {
     "name": "#%%\n"
    }
   }
  },
  {
   "cell_type": "markdown",
   "source": [
    "There's is no null data"
   ],
   "metadata": {
    "collapsed": false,
    "pycharm": {
     "name": "#%% md\n"
    }
   }
  },
  {
   "cell_type": "code",
   "execution_count": 39,
   "outputs": [
    {
     "data": {
      "text/plain": "name                  0\nalkalinity            0\nph                    0\ncalcium               0\nchlorophyll           0\nmean_merc_porc        0\nnum_fish              0\nmin_merc_porc         0\nmax_merc_porc         0\nmerc_estimate_porc    0\nage_fishes            0\ndtype: int64"
     },
     "execution_count": 39,
     "metadata": {},
     "output_type": "execute_result"
    }
   ],
   "source": [
    "df_fishes.isna().sum()"
   ],
   "metadata": {
    "collapsed": false,
    "pycharm": {
     "name": "#%%\n"
    }
   }
  }
 ],
 "metadata": {
  "kernelspec": {
   "display_name": "Python 3",
   "language": "python",
   "name": "python3"
  },
  "language_info": {
   "codemirror_mode": {
    "name": "ipython",
    "version": 2
   },
   "file_extension": ".py",
   "mimetype": "text/x-python",
   "name": "python",
   "nbconvert_exporter": "python",
   "pygments_lexer": "ipython2",
   "version": "2.7.6"
  }
 },
 "nbformat": 4,
 "nbformat_minor": 0
}